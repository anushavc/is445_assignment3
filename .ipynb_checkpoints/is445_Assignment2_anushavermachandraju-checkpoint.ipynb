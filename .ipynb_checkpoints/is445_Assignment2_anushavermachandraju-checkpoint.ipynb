{
 "cells": [
  {
   "cell_type": "markdown",
   "id": "dc06d912",
   "metadata": {},
   "source": [
    "# Python Script to Preprocess data \n",
    "\n",
    "### Anusha Verma Chandraju (avc5@illinois.edu)\n",
    "\n",
    "For assignment 3, we will be creating a plot using the building inventory dataset. Prior to this, we will run this script to create a new csv file which has processed the na values."
   ]
  },
  {
   "cell_type": "code",
   "execution_count": 3,
   "id": "3e15355f",
   "metadata": {},
   "outputs": [],
   "source": [
    "#Loading Libraries\n",
    "\n",
    "import pandas as pd\n",
    "import matplotlib.pyplot as plt\n",
    "import numpy as np"
   ]
  },
  {
   "cell_type": "code",
   "execution_count": 4,
   "id": "c8ab2bd2",
   "metadata": {},
   "outputs": [],
   "source": [
    "#Loading the data file\n",
    "\n",
    "data=pd.read_csv(\"building_inventory.csv\",na_values={'Year Acquired':0,'Year Constructed':0,'Square Footage':0})"
   ]
  },
  {
   "cell_type": "code",
   "execution_count": 5,
   "id": "44e19767",
   "metadata": {},
   "outputs": [],
   "source": [
    "data.to_csv('building_inventory_processed.csv', index=False)"
   ]
  },
  {
   "cell_type": "code",
   "execution_count": null,
   "id": "96a18a3f",
   "metadata": {},
   "outputs": [],
   "source": []
  }
 ],
 "metadata": {
  "kernelspec": {
   "display_name": "Python 3 (ipykernel)",
   "language": "python",
   "name": "python3"
  },
  "language_info": {
   "codemirror_mode": {
    "name": "ipython",
    "version": 3
   },
   "file_extension": ".py",
   "mimetype": "text/x-python",
   "name": "python",
   "nbconvert_exporter": "python",
   "pygments_lexer": "ipython3",
   "version": "3.11.4"
  }
 },
 "nbformat": 4,
 "nbformat_minor": 5
}
